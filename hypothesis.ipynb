{
 "cells": [
  {
   "cell_type": "code",
   "execution_count": 1,
   "metadata": {},
   "outputs": [],
   "source": [
    "#importing pandas and numpy\n",
    "import pandas as pd\n",
    "import numpy as ny"
   ]
  },
  {
   "cell_type": "code",
   "execution_count": 2,
   "metadata": {},
   "outputs": [],
   "source": [
    "#import normal data -nn- , making the index and drop gene ID\n",
    "df1=pd.read_table(\"nn.txt\")\n",
    "df1=df1.set_index(\"Hugo_Symbol\")\n",
    "df1=df1.drop([\"Entrez_Gene_Id\"],axis=1)\n",
    "\n"
   ]
  },
  {
   "cell_type": "code",
   "execution_count": 3,
   "metadata": {},
   "outputs": [],
   "source": [
    "#import cancer data -mm- , making the index and drop gene ID\n",
    "df2=pd.read_table(\"mm.txt\")\n",
    "df2=df2.set_index(\"Hugo_Symbol\")\n",
    "df2=df2.drop([\"Entrez_Gene_Id\"],axis=1)"
   ]
  },
  {
   "cell_type": "code",
   "execution_count": 4,
   "metadata": {},
   "outputs": [],
   "source": [
    "#making the data in organize  tabels\n",
    "data11=pd.DataFrame(df1)\n",
    "data22=pd.DataFrame(df2)"
   ]
  },
  {
   "cell_type": "code",
   "execution_count": 5,
   "metadata": {},
   "outputs": [],
   "source": [
    "#df1 and df1 as numpy array\n",
    "datah =ny.array(df1)\n",
    "datac =ny.array(df2)"
   ]
  },
  {
   "cell_type": "code",
   "execution_count": 6,
   "metadata": {},
   "outputs": [],
   "source": [
    "oo=[]\n",
    "for i in range (19648):\n",
    "    t=0\n",
    "    ss=datah[i]\n",
    "    for x in range (50):\n",
    "        if ss[x]==0 :\n",
    "            t=t+1\n",
    "            \n",
    "    if t>25:\n",
    "        oo.append(i)"
   ]
  },
  {
   "cell_type": "code",
   "execution_count": 7,
   "metadata": {},
   "outputs": [],
   "source": [
    "new_datah=ny. delete(datah, oo , 0)\n",
    "new_datac=ny. delete(datac, oo, 0)"
   ]
  },
  {
   "cell_type": "code",
   "execution_count": 8,
   "metadata": {},
   "outputs": [],
   "source": [
    "oo2=[]\n",
    "for i in range (17675):\n",
    "    t=0\n",
    "    ss=new_datac[i]\n",
    "    for x in range (50):\n",
    "        if ss[x]==0 :\n",
    "            t=t+1\n",
    "            \n",
    "    if t>25:\n",
    "        oo2.append(i)"
   ]
  },
  {
   "cell_type": "code",
   "execution_count": 9,
   "metadata": {},
   "outputs": [],
   "source": [
    "datah2=ny. delete(new_datah, oo2, 0)\n",
    "datac2=ny. delete(new_datac, oo2, 0)"
   ]
  },
  {
   "cell_type": "code",
   "execution_count": 10,
   "metadata": {},
   "outputs": [],
   "source": [
    "datah =ny.array(datah2)\n",
    "datac =ny.array(datac2)"
   ]
  },
  {
   "cell_type": "code",
   "execution_count": 11,
   "metadata": {},
   "outputs": [],
   "source": [
    "#importing ttest_ind (independant t test)\n",
    "from scipy.stats import ttest_ind\n",
    "#creat 4 arrayes \n",
    "inacc=[]\n",
    "indeaccH0=[]\n",
    "inre=[]\n",
    "inderefH0=[]\n",
    "pvalue1=[]\n",
    "for i in range (17337):\n",
    "    data_hy=datah[i]\n",
    "    data_ca=datac[i]\n",
    "    stat,p=ttest_ind(data_hy,data_ca)\n",
    "    pvalue1.append(p)\n",
    "    #accept the null hypothesis if p>0.05\n",
    "    if p > 0.05:\n",
    "        #appending the p value to inacc array \n",
    "        inacc.append(p)\n",
    "        #appending the gene to indeaccH0 \n",
    "        indeaccH0.append(datah[i])\n",
    "\n",
    "    #reject the null hypothesis    \n",
    "    else:\n",
    "        # appending the p value to inre array\n",
    "        inre.append(p)\n",
    "        #appending the gene to inderefH0\n",
    "        inderefH0.append(datah[i])\n",
    "    "
   ]
  },
  {
   "cell_type": "code",
   "execution_count": 12,
   "metadata": {},
   "outputs": [
    {
     "name": "stdout",
     "output_type": "stream",
     "text": [
      "accept the null hypothesis that the meanss are equal for :\"4706 genes for data as independant \n"
     ]
    }
   ],
   "source": [
    "print ('accept the null hypothesis that the meanss are equal for :\"'+str (len(inacc))+' genes for data as independant ')\n"
   ]
  },
  {
   "cell_type": "code",
   "execution_count": 13,
   "metadata": {},
   "outputs": [
    {
     "name": "stdout",
     "output_type": "stream",
     "text": [
      " reject accept the null hypothesis that the meanss are equal for :\"12631 genes for data as independant \n"
     ]
    }
   ],
   "source": [
    "print (' reject accept the null hypothesis that the meanss are equal for :\"'+str (len(inre))+' genes for data as independant ')\n"
   ]
  },
  {
   "cell_type": "code",
   "execution_count": 14,
   "metadata": {},
   "outputs": [],
   "source": [
    "#importing ttest_rel (dependant t test)\n",
    "from scipy.stats import ttest_rel\n",
    "#creat 4 arrayes \n",
    "dacc=[]\n",
    "deaccH0=[]\n",
    "dre=[]\n",
    "derefH0=[]\n",
    "pvalue2=[]\n",
    "for i in range (17337):\n",
    "    data_hy=datah[i]\n",
    "    data_ca=datac[i]\n",
    "    #do Paired Student's t-test\n",
    "    stat,p=ttest_rel(data_hy,data_ca)\n",
    "    pvalue2.append(p)\n",
    "    #accept the null hypothesis if p>0.05\n",
    "    if p > 0.05: \n",
    "                #appending p value to dacc array \n",
    "                dacc.append(p)\n",
    "                #appending dene to deaccH0\n",
    "                deaccH0.append(datah[i]) \n",
    "\n",
    "    #reject the null hypothesis              \n",
    "    else:\n",
    "        #appending p value to dre array\n",
    "        dre.append(p)\n",
    "        #appending dene to derefH0\n",
    "        derefH0.append(datah[i])"
   ]
  },
  {
   "cell_type": "code",
   "execution_count": 15,
   "metadata": {},
   "outputs": [
    {
     "name": "stdout",
     "output_type": "stream",
     "text": [
      "accept the null hypothesis that the meanss are equal for :\"4613 genes for data as dependant \n"
     ]
    }
   ],
   "source": [
    "print ('accept the null hypothesis that the meanss are equal for :\"'+str (len(dacc))+' genes for data as dependant ')\n"
   ]
  },
  {
   "cell_type": "code",
   "execution_count": 16,
   "metadata": {},
   "outputs": [
    {
     "name": "stdout",
     "output_type": "stream",
     "text": [
      " reject accept the null hypothesis that the meanss are equal for :\"12724 genes for data as dependant \n"
     ]
    }
   ],
   "source": [
    "print (' reject accept the null hypothesis that the meanss are equal for :\"'+str (len(dre))+' genes for data as dependant ')\n"
   ]
  },
  {
   "cell_type": "code",
   "execution_count": 17,
   "metadata": {},
   "outputs": [
    {
     "name": "stdout",
     "output_type": "stream",
     "text": [
      "the gene that is independant  and that will reject null hyposthesis are : 12320\n"
     ]
    }
   ],
   "source": [
    "import statsmodels.stats.multitest as multi\n",
    "#do FDR for indepandant \n",
    "q_fdr1=multi.multipletests(pvalue1,method='fdr_bh')[1]\n",
    "#make new array a that will contane the genes we expect are significant GE for independant \n",
    "a=[]\n",
    "for i in range (len (q_fdr1)):\n",
    "    if q_fdr1 [i]<=0.05 :\n",
    "        a.append(q_fdr1 [i])\n",
    "print ('the gene that is independant  and that will reject null hyposthesis are : '+str(len(a)))\n"
   ]
  },
  {
   "cell_type": "code",
   "execution_count": 18,
   "metadata": {},
   "outputs": [
    {
     "name": "stdout",
     "output_type": "stream",
     "text": [
      "the gene that is dependant  and that will reject null hyposthesis are : 12410\n"
     ]
    }
   ],
   "source": [
    "import statsmodels.stats.multitest as multi\n",
    "#do FDR for depandant \n",
    "q_fdr2=multi.multipletests(pvalue2,method='fdr_bh')[1]\n",
    "#make new array a that will contane the genes we expect are significant GE for dependant \n",
    "b=[]\n",
    "for i in range (len (q_fdr2)):\n",
    "    if q_fdr2 [i]<=0.05 :\n",
    "        b.append(q_fdr2 [i])\n",
    "print ('the gene that is dependant  and that will reject null hyposthesis are : '+str(len(b)))\n"
   ]
  },
  {
   "cell_type": "code",
   "execution_count": 19,
   "metadata": {},
   "outputs": [
    {
     "name": "stdout",
     "output_type": "stream",
     "text": [
      "for independant t test the comman genes that will change in GE =12320 genes\n",
      "for independant t test the  genes that will no  change in GE after FDR =311 genes\n",
      "for dependant t test the comman genes that will change in GE =12410 genes\n",
      "for dependant t test the  genes that will no change in GE after FDR  =314 genes\n"
     ]
    }
   ],
   "source": [
    "print ('for independant t test the comman genes that will change in GE ='+str(len(a))+' genes')\n",
    "print ('for independant t test the  genes that will no  change in GE after FDR ='+str(len(inre)-len(a))+' genes')\n",
    "print ('for dependant t test the comman genes that will change in GE ='+str(len(b))+' genes')\n",
    "print ('for dependant t test the  genes that will no change in GE after FDR  ='+str(len(dre)-len(b))+' genes')"
   ]
  },
  {
   "cell_type": "code",
   "execution_count": null,
   "metadata": {},
   "outputs": [],
   "source": []
  }
 ],
 "metadata": {
  "kernelspec": {
   "display_name": "Python 3",
   "language": "python",
   "name": "python3"
  },
  "language_info": {
   "codemirror_mode": {
    "name": "ipython",
    "version": 3
   },
   "file_extension": ".py",
   "mimetype": "text/x-python",
   "name": "python",
   "nbconvert_exporter": "python",
   "pygments_lexer": "ipython3",
   "version": "3.7.6"
  }
 },
 "nbformat": 4,
 "nbformat_minor": 4
}
